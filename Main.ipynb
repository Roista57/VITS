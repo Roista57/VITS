{
 "cells": [
  {
   "cell_type": "code",
   "execution_count": null,
   "id": "09ad8f86",
   "metadata": {},
   "outputs": [],
   "source": [
    "!apt update\n",
    "!apt install python3.8 -y\n",
    "!update-alternatives --install /usr/bin/python python /usr/bin/python3.8 1\n",
    "!update-alternatives --config python\n",
    "!python3 --version\n",
    "!apt install python3.8-venv python3.8-dev -y\n",
    "!wget https://bootstrap.pypa.io/get-pip.py\n",
    "!python3.8 get-pip.py\n",
    "!apt-get install cmake unzip zip ffmpeg espeak -y"
   ]
  },
  {
   "cell_type": "code",
   "execution_count": null,
   "id": "66a7e1f1",
   "metadata": {},
   "outputs": [],
   "source": [
    "%cd /workspace/VITS\n",
    "!pip install torch==1.13.1 torchvision==0.14.1 torchaudio==0.13.1 --index-url https://download.pytorch.org/whl/cu117\n",
    "!pip install -r requirements.txt"
   ]
  },
  {
   "cell_type": "code",
   "execution_count": null,
   "id": "6371bb52",
   "metadata": {},
   "outputs": [],
   "source": [
    "%cd monotonic_align\n",
    "!mkdir monotonic_align\n",
    "!python setup.py build_ext --inplace\n",
    "%cd .."
   ]
  },
  {
   "cell_type": "code",
   "execution_count": null,
   "id": "87aa881d",
   "metadata": {},
   "outputs": [],
   "source": [
    "!python random_pick.py --filelist filelists/filelists.txt"
   ]
  },
  {
   "cell_type": "code",
   "execution_count": null,
   "id": "730b8f36",
   "metadata": {},
   "outputs": [],
   "source": [
    "!python preprocess.py --text_index 2 --filelists filelists/filelist_train.txt filelists/filelist_val.txt --text_cleaners korean_cleaners"
   ]
  },
  {
   "cell_type": "code",
   "execution_count": null,
   "id": "01aabbce",
   "metadata": {},
   "outputs": [],
   "source": [
    "%cd /workspace/\n",
    "!mkdir save\n",
    "%cd VITS\n",
    "!python train_ms.py -c filelists/config.json -m /workspace/save"
   ]
  }
 ],
 "metadata": {
  "kernelspec": {
   "display_name": "Python 3 (ipykernel)",
   "language": "python",
   "name": "python3"
  },
  "language_info": {
   "codemirror_mode": {
    "name": "ipython",
    "version": 3
   },
   "file_extension": ".py",
   "mimetype": "text/x-python",
   "name": "python",
   "nbconvert_exporter": "python",
   "pygments_lexer": "ipython3",
   "version": "3.11.3"
  }
 },
 "nbformat": 4,
 "nbformat_minor": 5
}
